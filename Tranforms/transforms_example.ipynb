{
 "cells": [
  {
   "cell_type": "code",
   "execution_count": 1,
   "metadata": {},
   "outputs": [
    {
     "data": {
      "application/vnd.jupyter.widget-view+json": {
       "model_id": "b668574f474f4bf6a7ef1d29bd7d94b4",
       "version_major": 2,
       "version_minor": 0
      },
      "text/plain": [
       "interactive(children=(IntSlider(value=5, description='n', max=10, min=1), Output()), _dom_classes=('widget-int…"
      ]
     },
     "metadata": {},
     "output_type": "display_data"
    },
    {
     "data": {
      "text/plain": [
       "<function __main__.main(n)>"
      ]
     },
     "execution_count": 1,
     "metadata": {},
     "output_type": "execute_result"
    }
   ],
   "source": [
    "\"\"\"\n",
    "    Rodrigo Schardong\n",
    "    \n",
    "    Create Hadamar Array\n",
    "    Create Walsh Array\n",
    "    Create Haar Array\n",
    "\"\"\"\n",
    "\n",
    "import cv2\n",
    "import numpy as np\n",
    "from transforms import Transforms_Functions\n",
    "tf = Transforms_Functions()\n",
    "\n",
    "#Libs Just to Display\n",
    "from matplotlib import pyplot as plt\n",
    "from ipywidgets import interact, interactive, fixed, interact_manual\n",
    "import ipywidgets as widgets\n",
    "\n",
    "def DisplayInOutGray(inImg, outImg, inversed, inText = \"Input\", outText = \"Output\", invText = 'Inversed'):\n",
    "    f,a = plt.subplots(ncols = 3, figsize = (20,5))\n",
    "    a[0].imshow(inImg, cmap='gray')\n",
    "    a[0].set_title(inText)\n",
    "    a[1].imshow(outImg, cmap='gray')\n",
    "    a[1].set_title(outText)\n",
    "    a[2].imshow(inversed, cmap='gray')\n",
    "    a[2].set_title(invText)\n",
    "    plt.plot()\n",
    "    \n",
    "def CreateImage(height, width):\n",
    "    image = np.zeros((height, width))\n",
    "    for y in range (height):\n",
    "        for x in range(width):\n",
    "            if((x%2) == 0 and (y%2) == 0):\n",
    "                image[y,x] = 255\n",
    "            elif((x%2) == 1 and (y%2) == 1):\n",
    "                image[y,x] = 255\n",
    "    return image\n",
    "\n",
    "def AjustingToPlot(array):\n",
    "    n = array.shape[0]\n",
    "    for y in range(n):\n",
    "        for x in range(n):\n",
    "            if(array[y,x] == -1):\n",
    "                array[y,x] = 255\n",
    "    return array\n",
    "\n",
    "def main(n):\n",
    "    n = 2 ** n\n",
    "    #array = np.ones((n,n))\n",
    "    #print(array[0:int(n /2), 0:int(n /2)])\n",
    "    #print(array[0:int(n /2), 0:int(n /2)])\n",
    "    hadamar = tf.CreateHadamarArray(n)\n",
    "    hadamar = AjustingToPlot(hadamar)\n",
    "    \n",
    "    walsh = tf.CreateWalshArray(n)\n",
    "    walsh = AjustingToPlot(walsh)\n",
    "    \n",
    "    Haar = tf.CreateHaarArray(n)\n",
    "    #Haar = AjustingToPlot(Haar)\n",
    "    if(n < 8):\n",
    "        print(\"Haar = \", Haar)\n",
    "    \n",
    "    \n",
    "    DisplayInOutGray(hadamar, walsh, Haar,\"Hadamar Array\",\"Walsh Array\", \"Haar Aray\")\n",
    "    \n",
    "    \n",
    "    #print(hadamar)\n",
    "    #print(walsh)\n",
    "    \n",
    "interact(main,\n",
    "         #image_name = [(\"Cross\", 'cross'),('Lizard', 'lizard.jpg'),('Ilusion', 'ilusion.jpg'),('Lena','Lena_c.png'),('Colour Wheel',\"colour.jpg\"),('Gato', 'cat.png'), ('Rodrigo', 'Rodrigo.jpg')],\n",
    "         n = widgets.IntSlider(description = 'n', value = 5, min = 1, max = 10))"
   ]
  },
  {
   "cell_type": "code",
   "execution_count": 2,
   "metadata": {},
   "outputs": [
    {
     "data": {
      "application/vnd.jupyter.widget-view+json": {
       "model_id": "b42d3ad0cc3841a08028573b721a042c",
       "version_major": 2,
       "version_minor": 0
      },
      "text/plain": [
       "interactive(children=(Dropdown(description='image_name', options=(('Cross', 'cross'), ('Lizard', 'lizard.jpg')…"
      ]
     },
     "metadata": {},
     "output_type": "display_data"
    },
    {
     "data": {
      "text/plain": [
       "<function __main__.main(image_name)>"
      ]
     },
     "execution_count": 2,
     "metadata": {},
     "output_type": "execute_result"
    }
   ],
   "source": [
    "\"\"\"\n",
    "    Rodrigo Schardong\n",
    "    \n",
    "    Hadamar Transform\n",
    "    Walsh Transform\n",
    "    Haar Transform\n",
    "\"\"\"\n",
    "\n",
    "import cv2\n",
    "import numpy as np\n",
    "from transforms import Transforms_Functions\n",
    "tf = Transforms_Functions()\n",
    "import sys\n",
    "\n",
    "#Libs Just to Display\n",
    "from matplotlib import pyplot as plt\n",
    "from ipywidgets import interact, interactive, fixed, interact_manual\n",
    "import ipywidgets as widgets\n",
    "\n",
    "def DisplayInOutGray(inImg, outImg, inversed, inText = \"Input\", outText = \"Output\", invText = 'Inversed'):\n",
    "    f,a = plt.subplots(ncols = 3, figsize = (20,5))\n",
    "    a[0].imshow(inImg, cmap='gray')\n",
    "    a[0].set_title(inText)\n",
    "    a[1].imshow(outImg, cmap='gray')\n",
    "    a[1].set_title(outText)\n",
    "    a[2].imshow(inversed, cmap='gray')\n",
    "    a[2].set_title(invText)\n",
    "    plt.plot()\n",
    "    \n",
    "def CreateImage(height, width):\n",
    "    image = np.zeros((height, width))\n",
    "    for y in range (height):\n",
    "        for x in range(width):\n",
    "            if((x%2) == 0 and (y%2) == 0):\n",
    "                image[y,x] = 255\n",
    "            elif((x%2) == 1 and (y%2) == 1):\n",
    "                image[y,x] = 255\n",
    "    return image\n",
    "\n",
    "def main(image_name):\n",
    "    if(image_name == \"cross\"):\n",
    "        image = CreateImage(8,8)\n",
    "    else:\n",
    "        image = cv2.imread(image_name, 0)\n",
    "        \n",
    "\n",
    "    hadamar = tf.HadamarTransform(image)\n",
    "    inverseHadamar = tf.InverseHadamarTransform(hadamar)\n",
    "    DisplayInOutGray(image, hadamar, inverseHadamar)\n",
    "    \n",
    "    walsh = tf.WalshTransform(image)\n",
    "    inverseWalsh = tf.InverseWalshTransform(walsh)\n",
    "    DisplayInOutGray(image, walsh, inverseWalsh)\n",
    "    \n",
    "    haar = tf.HaarTransform(image)\n",
    "    inverseHaar = tf.InverseHaarTransform(haar)\n",
    "    DisplayInOutGray(image, haar, inverseHaar)\n",
    "    \n",
    "    \n",
    "interact(main,\n",
    "         image_name = [(\"Cross\", 'cross'),('Lizard', 'lizard.jpg'),('Ilusion', 'ilusion.jpg'),('Lena','Lena_c.png'),('Colour Wheel',\"colour.jpg\"),('Gato', 'cat.png'), ('Rodrigo', 'Rodrigo.jpg')])"
   ]
  },
  {
   "cell_type": "code",
   "execution_count": 23,
   "metadata": {},
   "outputs": [
    {
     "name": "stdout",
     "output_type": "stream",
     "text": [
      "k =  [ 0  1  2  3  4  5  6  7  8  9 10 11 12 13 14 15 16 17 18 19 20 21 22 23\n",
      " 24 25 26 27 28 29 30 31]\n",
      "p =  [0 0 1 1 1 2 2 2 2 3 3 3 3 3 3 3 3 4 4 4 4 4 4 4 4 4 4 4 4 4 4 4]\n",
      "q =  [ 0  1  1  2  3  2  3  4  5  2  3  4  5  6  7  8  9  2  3  4  5  6  7  8\n",
      "  9 10 11 12 13 14 15 16]\n"
     ]
    }
   ],
   "source": []
  },
  {
   "cell_type": "code",
   "execution_count": null,
   "metadata": {},
   "outputs": [],
   "source": []
  }
 ],
 "metadata": {
  "kernelspec": {
   "display_name": "Python 3",
   "language": "python",
   "name": "python3"
  },
  "language_info": {
   "codemirror_mode": {
    "name": "ipython",
    "version": 3
   },
   "file_extension": ".py",
   "mimetype": "text/x-python",
   "name": "python",
   "nbconvert_exporter": "python",
   "pygments_lexer": "ipython3",
   "version": "3.7.1"
  }
 },
 "nbformat": 4,
 "nbformat_minor": 2
}
