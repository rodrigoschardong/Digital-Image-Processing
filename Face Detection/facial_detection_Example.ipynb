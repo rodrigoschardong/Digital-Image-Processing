{
 "cells": [
  {
   "cell_type": "code",
   "execution_count": 3,
   "metadata": {},
   "outputs": [
    {
     "data": {
      "application/vnd.jupyter.widget-view+json": {
       "model_id": "5d26b4f41668417f90d2ae766d32a9a1",
       "version_major": 2,
       "version_minor": 0
      },
      "text/plain": [
       "interactive(children=(Dropdown(description='image_name', options=('faces_emotions.png', 'gabriel.png', 'megan.…"
      ]
     },
     "metadata": {},
     "output_type": "display_data"
    },
    {
     "data": {
      "text/plain": [
       "<function __main__.main_haarscade(image_name, cascade_name, height, width, scaleFactor, minNeighbors, minSize, maxSize)>"
      ]
     },
     "execution_count": 3,
     "metadata": {},
     "output_type": "execute_result"
    }
   ],
   "source": [
    "import os\n",
    "\n",
    "\n",
    "from facial_detection import FaceDetection\n",
    "\n",
    "from ipywidgets import interact, interactive, fixed, interact_manual\n",
    "import ipywidgets as widgets\n",
    "\n",
    "facesImgPath = \"./images\"\n",
    "imgList = os.listdir(facesImgPath)\n",
    "cascadesPath = \"./Cascades\"\n",
    "cascadeList = os.listdir(cascadesPath)\n",
    "\n",
    "def main_haarscade(image_name, cascade_name, height, width, scaleFactor, minNeighbors, minSize, maxSize):\n",
    "    print(\"Haarscade Method\")\n",
    "    faceDetection = FaceDetection(facesImgPath + \"/\" + image_name)\n",
    "    faceDetection.ResizeImage(height, width)\n",
    "    faceDetection.FaceDetectHaarscade(cascadesPath + \"/\" + cascade_name, scaleFactor, minNeighbors, minSize, maxSize)\n",
    "    faceDetection.DisplayImage()\n",
    "    \n",
    "interact(main_haarscade,\n",
    "         image_name = imgList,\n",
    "         cascade_name = cascadeList,\n",
    "         height = widgets.IntSlider(value = 500, min = 1, max= 1000, step = 1),\n",
    "         width = widgets.IntSlider(value = 500, min = 1, max= 1000, step = 1),\n",
    "         scaleFactor = widgets.FloatSlider(value = 1.1, min = 1.01, max= 5, step = 0.01),\n",
    "         minNeighbors = widgets.IntSlider(value = 3, min = 1, max= 10, step = 1),\n",
    "         minSize = widgets.IntSlider(value = 50, min = 1, max= 1000, step = 1),\n",
    "         maxSize = widgets.IntSlider(value = 100, min = 1, max= 1000, step = 1)\n",
    "         )"
   ]
  },
  {
   "cell_type": "code",
   "execution_count": 1,
   "metadata": {},
   "outputs": [
    {
     "data": {
      "application/vnd.jupyter.widget-view+json": {
       "model_id": "fe12c05570bc4fc9bac29c1cd3b3bd1b",
       "version_major": 2,
       "version_minor": 0
      },
      "text/plain": [
       "interactive(children=(Dropdown(description='image_name', options=('faces_emotions.png', 'gabriel.png', 'megan.…"
      ]
     },
     "metadata": {},
     "output_type": "display_data"
    },
    {
     "data": {
      "text/plain": [
       "<function __main__.main_hog(image_name, height, width, scaleFactor)>"
      ]
     },
     "execution_count": 1,
     "metadata": {},
     "output_type": "execute_result"
    }
   ],
   "source": [
    "import os\n",
    "\n",
    "\n",
    "from facial_detection import FaceDetection\n",
    "\n",
    "from ipywidgets import interact, interactive, fixed, interact_manual\n",
    "import ipywidgets as widgets\n",
    "\n",
    "facesImgPath = \"./images\"\n",
    "imgList = os.listdir(facesImgPath)\n",
    "\n",
    "def main_hog(image_name, height, width, scaleFactor):\n",
    "    print(\"HOG Method\")\n",
    "    faceDetection = FaceDetection(facesImgPath + \"/\" + image_name)\n",
    "    #faceDetection.ResizeImage(height, width)\n",
    "    faceDetection.FaceDetectHOG(scaleFactor)\n",
    "    faceDetection.DisplayImage()\n",
    "    \n",
    "interact(main_hog,\n",
    "         image_name = imgList,\n",
    "         height = widgets.IntSlider(value = 500, min = 1, max= 1000, step = 1),\n",
    "         width = widgets.IntSlider(value = 500, min = 1, max= 1000, step = 1),\n",
    "         scaleFactor = widgets.IntSlider(value = 1, min = 0, max= 5, step = 1)\n",
    "         )"
   ]
  }
 ],
 "metadata": {
  "kernelspec": {
   "display_name": "Python 3.9.1 64-bit",
   "language": "python",
   "name": "python3"
  },
  "language_info": {
   "codemirror_mode": {
    "name": "ipython",
    "version": 3
   },
   "file_extension": ".py",
   "mimetype": "text/x-python",
   "name": "python",
   "nbconvert_exporter": "python",
   "pygments_lexer": "ipython3",
   "version": "3.9.1"
  },
  "orig_nbformat": 4,
  "vscode": {
   "interpreter": {
    "hash": "33b7dacb5c30b2348eb0096517f68ee49fd28083dbdde527e850854322b94b1d"
   }
  }
 },
 "nbformat": 4,
 "nbformat_minor": 2
}
