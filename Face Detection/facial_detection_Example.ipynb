{
 "cells": [
  {
   "cell_type": "code",
   "execution_count": 1,
   "metadata": {},
   "outputs": [
    {
     "data": {
      "application/vnd.jupyter.widget-view+json": {
       "model_id": "08be5ed8de2c4aa587c757c5794119a4",
       "version_major": 2,
       "version_minor": 0
      },
      "text/plain": [
       "interactive(children=(Dropdown(description='image_name', options=('faces_emotions.png', 'gabriel.png', 'megan.…"
      ]
     },
     "metadata": {},
     "output_type": "display_data"
    },
    {
     "data": {
      "text/plain": [
       "<function __main__.main(image_name, cascade_name, height, width)>"
      ]
     },
     "execution_count": 1,
     "metadata": {},
     "output_type": "execute_result"
    }
   ],
   "source": [
    "import os\n",
    "\n",
    "\n",
    "from facial_detection import FaceDetection\n",
    "\n",
    "from ipywidgets import interact, interactive, fixed, interact_manual\n",
    "import ipywidgets as widgets\n",
    "\n",
    "facesImgPath = \"./images\"\n",
    "imgList = os.listdir(facesImgPath)\n",
    "cascadesPath = \"./Cascades\"\n",
    "cascadeList = os.listdir(cascadesPath)\n",
    "\n",
    "def main(image_name, cascade_name, height, width):\n",
    "    faceDetection__ = FaceDetection(facesImgPath + \"/\" + image_name, cascadesPath + \"/\" + cascade_name)\n",
    "    faceDetection__.ResizeImage(height, width)\n",
    "    faceDetection__.FaceDetect()\n",
    "    faceDetection__.DisplayImage()\n",
    "    \n",
    "interact(main,\n",
    "         image_name = imgList,\n",
    "         cascade_name = cascadeList,\n",
    "         height = widgets.IntSlider(value = 500, min = 1, max= 1000, step = 1),\n",
    "         width = widgets.IntSlider(value = 500, min = 1, max= 1000, step = 1)\n",
    "         )"
   ]
  }
 ],
 "metadata": {
  "kernelspec": {
   "display_name": "Python 3.9.1 64-bit",
   "language": "python",
   "name": "python3"
  },
  "language_info": {
   "codemirror_mode": {
    "name": "ipython",
    "version": 3
   },
   "file_extension": ".py",
   "mimetype": "text/x-python",
   "name": "python",
   "nbconvert_exporter": "python",
   "pygments_lexer": "ipython3",
   "version": "3.9.1"
  },
  "orig_nbformat": 4,
  "vscode": {
   "interpreter": {
    "hash": "33b7dacb5c30b2348eb0096517f68ee49fd28083dbdde527e850854322b94b1d"
   }
  }
 },
 "nbformat": 4,
 "nbformat_minor": 2
}
