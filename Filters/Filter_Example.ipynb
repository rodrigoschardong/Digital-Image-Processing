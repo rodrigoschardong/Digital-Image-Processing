{
 "cells": [
  {
   "cell_type": "code",
   "execution_count": 2,
   "metadata": {},
   "outputs": [
    {
     "data": {
      "application/vnd.jupyter.widget-view+json": {
       "model_id": "7fb923cb4856492ab8ef750310faf52e",
       "version_major": 2,
       "version_minor": 0
      },
      "text/plain": [
       "interactive(children=(Dropdown(description='image_name', options=(('Lena', 'Lena_c.png'), ('Colour Wheel', 'co…"
      ]
     },
     "metadata": {},
     "output_type": "display_data"
    },
    {
     "data": {
      "text/plain": [
       "<function __main__.main(image_name, rgb)>"
      ]
     },
     "execution_count": 2,
     "metadata": {},
     "output_type": "execute_result"
    }
   ],
   "source": [
    "\"\"\"\n",
    "    Rodrigo Schardong\n",
    "    \n",
    "    Sobel Filter Passso a Passo\n",
    "\"\"\"\n",
    "\n",
    "import cv2\n",
    "\n",
    "from Filter_Class import Filter_Functions\n",
    "filt = Filter_Functions()\n",
    "\n",
    "#Libs Just to Display\n",
    "from matplotlib import pyplot as plt\n",
    "from ipywidgets import interact, interactive, fixed, interact_manual\n",
    "import ipywidgets as widgets\n",
    "\n",
    "def DisplayInOut(inImage, outImage, nameIn = \" \", nameOut = \" \", inIsGray = 0, outIsGray = 0):\n",
    "    \n",
    "    if(inIsGray == 1):\n",
    "        inImage = cv2.merge((inImage,inImage,inImage))\n",
    "    else:\n",
    "        inImage = cv2.cvtColor(inImage, cv2.COLOR_BGR2RGB)\n",
    "    \n",
    "    if(outIsGray == 1):\n",
    "        outImage = cv2.merge((outImage,outImage,outImage))\n",
    "    else:\n",
    "        #outImage = cv2.cvtColor(outImage, cv2.COLOR_BGR2RGB)\n",
    "        b, g, r = cv2.split(outImage)\n",
    "        outImage = cv2.merge((r, g, b))\n",
    "    f,a = plt.subplots(ncols = 2, figsize = (20,5))\n",
    "    a[0].imshow(inImage.astype(int))\n",
    "    a[0].set_title(nameIn)\n",
    "    a[1].imshow(outImage.astype(int))\n",
    "    a[1].set_title(nameOut)\n",
    "    plt.plot()\n",
    "\n",
    "def main(image_name, rgb):\n",
    "    if(rgb == False):\n",
    "        image = cv2.imread(image_name, 0)\n",
    "        filtered = filt.Sobel(image)\n",
    "        gx = filt.Sobel_Gx(image)\n",
    "        gy = filt.Sobel_Gy(image)\n",
    "        DisplayInOut(image, filtered, \"Imagem de Entrada\", \"Imagem de Saida\", 1, 1)\n",
    "        DisplayInOut(gx, gy, \"Gx\", \"Gy\", 1, 1)\n",
    "    else:\n",
    "        image = cv2.imread(image_name)\n",
    "        filtered = filt.Sobel_RGB(image)\n",
    "        DisplayInOut(image, filtered, \"Imagem de Entrada RGB\", \"Imagem de Saida RGB\")\n",
    "        \n",
    "        b,g,r = cv2.split(image)\n",
    "        bF,gF,rF = cv2.split(filtered)\n",
    "        \n",
    "        DisplayInOut(r, rF, \"Imagem de Entrada Red\", \"Imagem de Saida Red\", 1, 1)\n",
    "        DisplayInOut(g, gF, \"Imagem de Entrada Green\", \"Imagem de Saida Green\", 1, 1)\n",
    "        DisplayInOut(b, bF, \"Imagem de Entrada Blue\", \"Imagem de Saida Blue\", 1, 1)\n",
    "\n",
    "interact(main,\n",
    "         image_name = [('Lena','Lena_c.png'),('Colour Wheel',\"colour.jpg\"),('Gato', 'cat.png'), ('Rodrigo', 'Rodrigo.jpg')],\n",
    "         rgb = widgets.Checkbox(value = False, description = \"RGB\", disabled = False, indent = False))"
   ]
  },
  {
   "cell_type": "code",
   "execution_count": 10,
   "metadata": {
    "scrolled": false
   },
   "outputs": [
    {
     "data": {
      "application/vnd.jupyter.widget-view+json": {
       "model_id": "68ae586545ac4539a4a8e7f65f2e6b0a",
       "version_major": 2,
       "version_minor": 0
      },
      "text/plain": [
       "interactive(children=(Dropdown(description='image_name', options=(('Lena', 'Lena_c.png'), ('Colour Wheel', 'co…"
      ]
     },
     "metadata": {},
     "output_type": "display_data"
    },
    {
     "data": {
      "text/plain": [
       "<function __main__.main(image_name, manual, maskType)>"
      ]
     },
     "execution_count": 10,
     "metadata": {},
     "output_type": "execute_result"
    }
   ],
   "source": [
    "\"\"\"\n",
    "    Rodrigo Schardong\n",
    "    \n",
    "    Generic Filters\n",
    "\"\"\"\n",
    "\n",
    "import cv2\n",
    "import numpy as np\n",
    "\n",
    "from Filter_Class import Filter_Functions\n",
    "filt = Filter_Functions()\n",
    "\n",
    "#Libs Just to Display\n",
    "from matplotlib import pyplot as plt\n",
    "from ipywidgets import interact, interactive, fixed, interact_manual\n",
    "import ipywidgets as widgets\n",
    "\n",
    "def DisplayInOut(inImage, outImage, nameIn = \" \", nameOut = \" \", inIsGray = 0, outIsGray = 0):\n",
    "    \n",
    "    if(inIsGray == 1):\n",
    "        inImage = cv2.merge((inImage,inImage,inImage))\n",
    "    else:\n",
    "        inImage = cv2.cvtColor(inImage, cv2.COLOR_BGR2RGB)\n",
    "    \n",
    "    if(outIsGray == 1):\n",
    "        outImage = cv2.merge((outImage,outImage,outImage))\n",
    "    else:\n",
    "        #outImage = cv2.cvtColor(outImage, cv2.COLOR_BGR2RGB)\n",
    "        b, g, r = cv2.split(outImage)\n",
    "        outImage = cv2.merge((r, g, b))\n",
    "    f,a = plt.subplots(ncols = 2, figsize = (20,5))\n",
    "    a[0].imshow(inImage.astype(int))\n",
    "    a[0].set_title(nameIn)\n",
    "    a[1].imshow(outImage.astype(int))\n",
    "    a[1].set_title(nameOut)\n",
    "    plt.plot()\n",
    "\n",
    "def main(image_name, manual, maskType):\n",
    "    if(maskType == '2x2 Blur'):\n",
    "        mask = (np.ones((2,2)) / 4)\n",
    "    elif(maskType == '2x2 Laplacian'):\n",
    "        mask = np.array([[-1, 1],[1,-1]])\n",
    "    elif(maskType == '3x3 Blur'):\n",
    "        mask = (np.ones((3,3)) / 9)   \n",
    "    elif(maskType == '3x3 Laplacian'):\n",
    "        mask = np.array([[-1, -1, -1],[-1, 8,-1], [-1, -1, -1]])\n",
    "    elif(maskType == '4x4 Blur'):\n",
    "        mask = (np.ones((4,4)) / 16)   \n",
    "    elif(maskType == '4x4 Laplacian'):\n",
    "        mask = np.array([[-1, -1, -1, -1], [-1, 3, 3, -1], [-1, 3, 3,-1], [-1, -1, -1, -1]])\n",
    "    elif(maskType == '5x5 Blur'):\n",
    "        mask = (np.ones((5,5)) / 25)   \n",
    "    elif(maskType == '5x5 Laplacian'):\n",
    "        mask = np.array([[-1, -1, -1, -1, -1], [-1, -1, -1, -1, -1], [-1, -1, 24, -1, -1], [-1, -1, -1, -1, 1], [-1, -1, -1, -1, -1]])\n",
    "    image = cv2.imread(image_name, 0)\n",
    "    filtered = filt.Generic_Convolution(image, mask, manual)\n",
    "    DisplayInOut(image, filtered, \"Imagem de Entrada\", \"Imagem de Saida Filtrada\", 1, 1)\n",
    "    \n",
    "    #filtered = filt.Blur(image, manual)\n",
    "    #DisplayInOut(image, filtered, \"Imagem de Entrada\", \"Imagem de Saida Blur\", 1, 1)\n",
    "    \n",
    "    #filtered = filt.Laplacian(image, manual)\n",
    "    #DisplayInOut(image, filtered, \"Imagem de Entrada\", \"Imagem de Saida Laplacian\", 1, 1)\n",
    "\n",
    "interact(main,\n",
    "         image_name = [('Lena','Lena_c.png'),('Colour Wheel',\"colour.jpg\"),('Gato', 'cat.png')],\n",
    "         manual = widgets.Checkbox(value = True, description = \"Manual\", disabled = False, indent = False),\n",
    "         maskType = ['2x2 Blur', '3x3 Blur', '4x4 Blur', '5x5 Blur', '2x2 Laplacian', '3x3 Laplacian', '4x4 Laplacian', '5x5 Laplacian'])"
   ]
  },
  {
   "cell_type": "code",
   "execution_count": 2,
   "metadata": {},
   "outputs": [
    {
     "data": {
      "application/vnd.jupyter.widget-view+json": {
       "model_id": "17dbdc46ae4e454f9a179def37a477a0",
       "version_major": 2,
       "version_minor": 0
      },
      "text/plain": [
       "interactive(children=(Dropdown(description='image_name', options=(('Lena', 'Lena_c.png'), ('Colour Wheel', 'co…"
      ]
     },
     "metadata": {},
     "output_type": "display_data"
    },
    {
     "data": {
      "text/plain": [
       "<function __main__.main(image_name, manual, highPassMask, lowPassMask, level)>"
      ]
     },
     "execution_count": 2,
     "metadata": {},
     "output_type": "execute_result"
    }
   ],
   "source": [
    "\"\"\"\n",
    "    Rodrigo Schardong\n",
    "    \n",
    "    Discrete Wavelet Transform\n",
    "\"\"\"\n",
    "\n",
    "import cv2\n",
    "import numpy as np\n",
    "\n",
    "from Filter_Class import Filter_Functions\n",
    "filt = Filter_Functions()\n",
    "\n",
    "#Libs Just to Display\n",
    "from matplotlib import pyplot as plt\n",
    "from ipywidgets import interact, interactive, fixed, interact_manual\n",
    "import ipywidgets as widgets\n",
    "\n",
    "def DisplayInOut(inImage, outImage, nameIn = \" \", nameOut = \" \", inIsGray = 0, outIsGray = 0):\n",
    "    \n",
    "    if(inIsGray == 1):\n",
    "        inImage = cv2.merge((inImage,inImage,inImage))\n",
    "    else:\n",
    "        inImage = cv2.cvtColor(inImage, cv2.COLOR_BGR2RGB)\n",
    "    \n",
    "    if(outIsGray == 1):\n",
    "        outImage = cv2.merge((outImage,outImage,outImage))\n",
    "    else:\n",
    "        #outImage = cv2.cvtColor(outImage, cv2.COLOR_BGR2RGB)\n",
    "        b, g, r = cv2.split(outImage)\n",
    "        outImage = cv2.merge((r, g, b))\n",
    "    f,a = plt.subplots(ncols = 2, figsize = (20,5))\n",
    "    a[0].imshow(inImage.astype(int))\n",
    "    a[0].set_title(nameIn)\n",
    "    a[1].imshow(outImage.astype(int))\n",
    "    a[1].set_title(nameOut)\n",
    "    plt.plot()\n",
    "\n",
    "def main(image_name, manual, highPassMask, lowPassMask, level):\n",
    "    if(lowPassMask == '2x2 Blur'):\n",
    "        lowMask = (np.ones((2,2)) / 4)\n",
    "    elif(lowPassMask == '3x3 Blur'):\n",
    "        lowMask = (np.ones((3,3)) / 9)   \n",
    "    elif(lowPassMask == '4x4 Blur'):\n",
    "        lowMask = (np.ones((4,4)) / 16)   \n",
    "    elif(lowPassMask == '5x5 Blur'):\n",
    "        lowMask = (np.ones((5,5)) / 25)   \n",
    "    \n",
    "    if(highPassMask == '2x2 Laplacian'):\n",
    "        highMask = np.array([[-1, 1],[1,-1]])\n",
    "    elif(highPassMask == '3x3 Laplacian'):\n",
    "        highMask = np.array([[-1, -1, -1],[-1, 8,-1], [-1, -1, -1]])\n",
    "    elif(highPassMask == '4x4 Laplacian'):\n",
    "        highMask = np.array([[-1, -1, -1, -1], [-1, 3, 3, -1], [-1, 3, 3,-1], [-1, -1, -1, -1]])    \n",
    "    elif(highPassMask == '5x5 Laplacian'):\n",
    "        highMask = np.array([[-1, -1, -1, -1, -1], [-1, -1, -3, -1, -1], [-1, 3, 12, 3, -1], [-1, -1, 3, -1, 1], [-1, -1, -1, -1, -1]])\n",
    "        \n",
    "    image = cv2.imread(image_name, 0)\n",
    "    lowPassImage, highPassImage = filt.Generic_Discrete_Wavelet_Transform(image, level, lowMask, highMask, manual)\n",
    "    DisplayInOut(image, lowPassImage, \"Imagem de Entrada\", \"Imagem de Saida Low Pass\", 1, 1)\n",
    "    DisplayInOut(highPassImage, filt.Show_High_Pass_Borders(lowPassImage, highPassImage), \"Imagem de Saida High Pass\", \"High Pass Sobreposta na LowPass\", 1, 1)\n",
    "    \n",
    "    #filtered = filt.Blur(image, manual)\n",
    "    #DisplayInOut(image, filtered, \"Imagem de Entrada\", \"Imagem de Saida Blur\", 1, 1)\n",
    "    \n",
    "    #filtered = filt.Laplacian(image, manual)\n",
    "    #DisplayInOut(image, filtered, \"Imagem de Entrada\", \"Imagem de Saida Laplacian\", 1, 1)\n",
    "\n",
    "interact(main,\n",
    "         image_name = [('Lena','Lena_c.png'),('Colour Wheel',\"colour.jpg\"),('Gato', 'cat.png')],\n",
    "         manual = widgets.Checkbox(value = True, description = \"Manual\", disabled = False, indent = False),\n",
    "         highPassMask = [ '2x2 Laplacian', '3x3 Laplacian', '4x4 Laplacian', '5x5 Laplacian'],\n",
    "         lowPassMask = ['2x2 Blur', '3x3 Blur', '4x4 Blur', '5x5 Blur'],\n",
    "         level = widgets.IntSlider(description = 'Level', value = 3, min = 0, max = 100))"
   ]
  },
  {
   "cell_type": "code",
   "execution_count": null,
   "metadata": {},
   "outputs": [],
   "source": []
  },
  {
   "cell_type": "code",
   "execution_count": null,
   "metadata": {},
   "outputs": [],
   "source": []
  },
  {
   "cell_type": "code",
   "execution_count": null,
   "metadata": {},
   "outputs": [],
   "source": []
  }
 ],
 "metadata": {
  "kernelspec": {
   "display_name": "Python 3",
   "language": "python",
   "name": "python3"
  },
  "language_info": {
   "codemirror_mode": {
    "name": "ipython",
    "version": 3
   },
   "file_extension": ".py",
   "mimetype": "text/x-python",
   "name": "python",
   "nbconvert_exporter": "python",
   "pygments_lexer": "ipython3",
   "version": "3.7.1"
  }
 },
 "nbformat": 4,
 "nbformat_minor": 2
}
