{
 "cells": [
  {
   "cell_type": "code",
   "execution_count": 1,
   "metadata": {},
   "outputs": [
    {
     "data": {
      "application/vnd.jupyter.widget-view+json": {
       "model_id": "740d8d856f9341d59e571d53a235607b",
       "version_major": 2,
       "version_minor": 0
      },
      "text/plain": [
       "interactive(children=(Dropdown(description='image_name', options=(('Cross', 'cross'), ('Lizard', 'lizard.jpg')…"
      ]
     },
     "metadata": {},
     "output_type": "display_data"
    },
    {
     "data": {
      "text/plain": [
       "<function __main__.main(image_name, threshold)>"
      ]
     },
     "execution_count": 1,
     "metadata": {},
     "output_type": "execute_result"
    }
   ],
   "source": [
    "\"\"\"\n",
    "    Rodrigo Schardong\n",
    "    \n",
    "    Frequency Filters\n",
    "\"\"\"\n",
    "\n",
    "import cv2\n",
    "import numpy as np\n",
    "from Frequency_Filters_Class import Frequency_Filters_Functions\n",
    "ff = Frequency_Filters_Functions()\n",
    "\n",
    "#Libs Just to Display\n",
    "from matplotlib import pyplot as plt\n",
    "from ipywidgets import interact, interactive, fixed, interact_manual\n",
    "import ipywidgets as widgets\n",
    "\n",
    "def DisplayInOutGray(inImg, outImg, inText = \"Input\", outText = \"Output\"):\n",
    "    f,a = plt.subplots(ncols = 2, figsize = (20,5))\n",
    "    a[0].imshow(inImg, cmap='gray')\n",
    "    a[0].set_title(inText)\n",
    "    a[1].imshow(outImg, cmap='gray')\n",
    "    a[1].set_title(outText)\n",
    "    plt.plot()\n",
    "    \n",
    "def CreateImage(height, width):\n",
    "    image = np.zeros((height, width))\n",
    "    for y in range (height):\n",
    "        for x in range(width):\n",
    "            if((x%2) == 0 and (y%2) == 0):\n",
    "                image[y,x] = 255\n",
    "            elif((x%2) == 1 and (y%2) == 1):\n",
    "                image[y,x] = 255\n",
    "    return image\n",
    "\n",
    "def main(image_name, threshold):\n",
    "    if(image_name == \"cross\"):\n",
    "        image = CreateImage(10,10)\n",
    "    else:\n",
    "        image = cv2.imread(image_name, 0)\n",
    "        \n",
    "    lowPass = ff.FrequencyFilter(image, threshold, \"LowPass\")\n",
    "    hightPass = ff.FrequencyFilter(image, threshold, \"HighPass\")\n",
    "    \n",
    "    DisplayInOutGray(image, lowPass, \"Input\", \"LowPass\")\n",
    "    DisplayInOutGray(image, hightPass, \"Input\", \"HighPass\")\n",
    "    \n",
    "    \n",
    "interact(main,\n",
    "         image_name = [(\"Cross\", 'cross'),('Lizard', 'lizard.jpg'),('Ilusion', 'ilusion.jpg'),('Lena','Lena_c.png'),('Colour Wheel',\"colour.jpg\"),('Gato', 'cat.png'), ('Rodrigo', 'Rodrigo.jpg')],\n",
    "         threshold = widgets.IntSlider(description = 'threshold', value = 7, min = 0, max = 15))"
   ]
  },
  {
   "cell_type": "code",
   "execution_count": 4,
   "metadata": {},
   "outputs": [
    {
     "data": {
      "application/vnd.jupyter.widget-view+json": {
       "model_id": "6f6603290d6243968b8af97852980c77",
       "version_major": 2,
       "version_minor": 0
      },
      "text/plain": [
       "interactive(children=(Dropdown(description='image_name', options=(('Cross', 'cross'), ('Lizard', 'lizard.jpg')…"
      ]
     },
     "metadata": {},
     "output_type": "display_data"
    },
    {
     "data": {
      "text/plain": [
       "<function __main__.main(image_name, threshold, order)>"
      ]
     },
     "execution_count": 4,
     "metadata": {},
     "output_type": "execute_result"
    }
   ],
   "source": [
    "\"\"\"\n",
    "    Rodrigo Schardong\n",
    "    \n",
    "    Butterworth Filter\n",
    "\"\"\"\n",
    "\n",
    "import cv2\n",
    "import numpy as np\n",
    "from Frequency_Filters_Class import Frequency_Filters_Functions\n",
    "ff = Frequency_Filters_Functions()\n",
    "\n",
    "#Libs Just to Display\n",
    "from matplotlib import pyplot as plt\n",
    "from ipywidgets import interact, interactive, fixed, interact_manual\n",
    "import ipywidgets as widgets\n",
    "\n",
    "def CreateImage(height, width):\n",
    "    image = np.zeros((height, width))\n",
    "    for y in range (height):\n",
    "        for x in range(width):\n",
    "            if((x%2) == 0 and (y%2) == 0):\n",
    "                image[y,x] = 255\n",
    "            elif((x%2) == 1 and (y%2) == 1):\n",
    "                image[y,x] = 255\n",
    "    return image\n",
    "        \n",
    "def DisplayInOutGray(inImg, outImg, inText = \"Input\", outText = \"Output\"):\n",
    "    f,a = plt.subplots(ncols = 2, figsize = (20,5))\n",
    "    a[0].imshow(inImg, cmap='gray')\n",
    "    a[0].set_title(inText)\n",
    "    a[1].imshow(outImg, cmap='gray')\n",
    "    a[1].set_title(outText)\n",
    "    plt.plot()\n",
    "\n",
    "def main(image_name, threshold, order):\n",
    "    if(image_name == \"cross\"):\n",
    "        img = CreateImage(20,20)\n",
    "    else:\n",
    "        img = cv2.imread(image_name, 0)\n",
    "        \n",
    "    filtered = ff.ButterworthFilter(img, threshold, order)\n",
    "\n",
    "    DisplayInOutGray(img, filtered, \"Input\", \"Output\")\n",
    "\n",
    "interact(main,\n",
    "         image_name = [(\"Cross\", 'cross'),('Lizard', 'lizard.jpg'),('Ilusion', 'ilusion.jpg'),('Lena','Lena_c.png'),('Colour Wheel',\"colour.jpg\"),('Gato', 'cat.png'), ('Rodrigo', 'Rodrigo.jpg')],\n",
    "         threshold = widgets.IntSlider(description = 'Threshold', value = 10, min = 0, max = 255),\n",
    "         order = widgets.IntSlider(description = 'Order', value = 1, min = 0, max = 255))"
   ]
  },
  {
   "cell_type": "code",
   "execution_count": 2,
   "metadata": {},
   "outputs": [
    {
     "data": {
      "application/vnd.jupyter.widget-view+json": {
       "model_id": "0532e5f7c572482da4ff3b1a0bfcd60a",
       "version_major": 2,
       "version_minor": 0
      },
      "text/plain": [
       "interactive(children=(Dropdown(description='image_name', options=(('Cross', 'cross'), ('Lizard', 'lizard.jpg')…"
      ]
     },
     "metadata": {},
     "output_type": "display_data"
    },
    {
     "data": {
      "text/plain": [
       "<function __main__.main(image_name, order)>"
      ]
     },
     "execution_count": 2,
     "metadata": {},
     "output_type": "execute_result"
    }
   ],
   "source": [
    "\"\"\"\n",
    "    Rodrigo Schardong\n",
    "    \n",
    "    Butterworth Filter\n",
    "    Defaut Threshold\n",
    "\"\"\"\n",
    "\n",
    "import cv2\n",
    "import numpy as np\n",
    "from Frequency_Filters_Class import Frequency_Filters_Functions\n",
    "ff = Frequency_Filters_Functions()\n",
    "\n",
    "#Libs Just to Display\n",
    "from matplotlib import pyplot as plt\n",
    "from ipywidgets import interact, interactive, fixed, interact_manual\n",
    "import ipywidgets as widgets\n",
    "\n",
    "def aplicaFiltroButterworth(fftR, fftI, freq, ord=1):\n",
    "    N, M = np.shape(fftR)\n",
    "    for x in range(M):\n",
    "        for y in range(N):\n",
    "            dist = (x ** 2 + y ** 2) ** (1 / 2) \n",
    "            h = 1 / ((1 + (dist/freq)) ** 2)\n",
    "            fftR[y, x] = fftR[y, x] * h\n",
    "            fftI[y, x] = fftI[y, x] * h\n",
    "    return fftR, fftI\n",
    "\n",
    "def fourier(img):\n",
    "    if(len(np.shape(img)) == 2):\n",
    "        N, M = np.shape(img)\n",
    "\n",
    "        newImgR = np.zeros((N, M))\n",
    "        newImgI = np.zeros((N, M))\n",
    "\n",
    "        xs = np.arange(M)\n",
    "        ys = np.arange(N)\n",
    "\n",
    "        for u in range(M):\n",
    "            for v in range(N):\n",
    "\n",
    "                for x in range(M):\n",
    "                    for y in range(N):\n",
    "\n",
    "                        idx = ((u*x / M) + (v*y / N)) * 2 * np.pi\n",
    "                        newImgR[v, u] += img[y, x] * np.cos(-idx)\n",
    "                        newImgI[v, u] += img[y, x] * np.sin(-idx)\n",
    "\n",
    "        # newImg = newImgR + (0 + newImgI*1j)\n",
    "        return newImgR/(M*N), newImgI/(M*N)\n",
    "    else:\n",
    "        raise Exception('A imagem deve ser um array numpy de duas dimensões (MxN) em grayscale.')\n",
    "\n",
    "def fourier_inv(imgR, imgI):\n",
    "    if(len(np.shape(img)) == 2):\n",
    "        N, M = np.shape(img)\n",
    "        newImg = np.zeros((N, M))\n",
    "\n",
    "        for u in range(M):\n",
    "            for v in range(N):\n",
    "\n",
    "                for x in range(M):\n",
    "                    for y in range(N):\n",
    "\n",
    "                        idx = ((u*x / M) + (v*y / N)) * 2 * np.pi\n",
    "                        newImg[v, u] += imgR[y, x] * np.cos(idx)\n",
    "                        newImg[v, u] -= imgI[y, x] * np.sin(idx)\n",
    "\n",
    "        return newImg / (M*N)\n",
    "    else:\n",
    "        raise Exception('A imagem deve ser um array numpy de duas dimensões (MxN) em grayscale.')\n",
    "\n",
    "def CreateImage(height, width):\n",
    "    image = np.zeros((height, width))\n",
    "    for y in range (height):\n",
    "        for x in range(width):\n",
    "            if((x%2) == 0 and (y%2) == 0):\n",
    "                image[y,x] = 255\n",
    "            elif((x%2) == 1 and (y%2) == 1):\n",
    "                image[y,x] = 255\n",
    "    return image\n",
    "        \n",
    "def DisplayInOutGray(inImg, outImg, inText = \"Input\", outText = \"Output\"):\n",
    "    f,a = plt.subplots(ncols = 2, figsize = (20,5))\n",
    "    a[0].imshow(inImg, cmap='gray')\n",
    "    a[0].set_title(inText)\n",
    "    a[1].imshow(outImg, cmap='gray')\n",
    "    a[1].set_title(outText)\n",
    "    plt.plot()\n",
    "\n",
    "def main(image_name, order):\n",
    "    if(image_name == \"cross\"):\n",
    "        img = CreateImage(20,20)\n",
    "    else:\n",
    "        img = cv2.imread(image_name, 0)\n",
    "        \n",
    "        \n",
    "    threshold = 1\n",
    "    filtered1 = ff.ButterworthFilter(img, threshold, order)\n",
    "    threshold = 10\n",
    "    filtered2 = ff.ButterworthFilter(img, threshold, order)\n",
    "    threshold = 100\n",
    "    filtered3 = ff.ButterworthFilter(img, threshold, order)\n",
    "\n",
    "    DisplayInOutGray(img, filtered1, \"Input\", \"Threshold = 1\")\n",
    "    DisplayInOutGray(filtered2, filtered3, \"Threshold = 10\", \"Threshold = 100\")\n",
    "\n",
    "interact(main,\n",
    "         image_name = [(\"Cross\", 'cross'),('Lizard', 'lizard.jpg'),('Ilusion', 'ilusion.jpg'),('Lena','Lena_c.png'),('Colour Wheel',\"colour.jpg\"),('Gato', 'cat.png'), ('Rodrigo', 'Rodrigo.jpg')],\n",
    "         order = widgets.IntSlider(description = 'Order', value = 1, min = 0, max = 255))"
   ]
  },
  {
   "cell_type": "code",
   "execution_count": 3,
   "metadata": {},
   "outputs": [
    {
     "data": {
      "application/vnd.jupyter.widget-view+json": {
       "model_id": "b567369b44b04337896b5f2c43116f55",
       "version_major": 2,
       "version_minor": 0
      },
      "text/plain": [
       "interactive(children=(Dropdown(description='image_name', options=(('Cross', 'cross'), ('Lizard', 'lizard.jpg')…"
      ]
     },
     "metadata": {},
     "output_type": "display_data"
    },
    {
     "data": {
      "text/plain": [
       "<function __main__.main(image_name, thresholdLow, thresholdHigh)>"
      ]
     },
     "execution_count": 3,
     "metadata": {},
     "output_type": "execute_result"
    }
   ],
   "source": [
    "\"\"\"\n",
    "    Rodrigo Schardong\n",
    "    \n",
    "    Band Pass and Band Reject\n",
    "\"\"\"\n",
    "\n",
    "import cv2\n",
    "import numpy as np\n",
    "from Frequency_Filters_Class import Frequency_Filters_Functions\n",
    "ff = Frequency_Filters_Functions()\n",
    "\n",
    "#Libs Just to Display\n",
    "from matplotlib import pyplot as plt\n",
    "from ipywidgets import interact, interactive, fixed, interact_manual\n",
    "import ipywidgets as widgets\n",
    "\n",
    "def aplicaFiltroButterworth(fftR, fftI, freq, ord=1):\n",
    "    N, M = np.shape(fftR)\n",
    "    for x in range(M):\n",
    "        for y in range(N):\n",
    "            dist = (x ** 2 + y ** 2) ** (1 / 2) \n",
    "            h = 1 / ((1 + (dist/freq)) ** 2)\n",
    "            fftR[y, x] = fftR[y, x] * h\n",
    "            fftI[y, x] = fftI[y, x] * h\n",
    "    return fftR, fftI\n",
    "\n",
    "def fourier(img):\n",
    "    if(len(np.shape(img)) == 2):\n",
    "        N, M = np.shape(img)\n",
    "\n",
    "        newImgR = np.zeros((N, M))\n",
    "        newImgI = np.zeros((N, M))\n",
    "\n",
    "        xs = np.arange(M)\n",
    "        ys = np.arange(N)\n",
    "\n",
    "        for u in range(M):\n",
    "            for v in range(N):\n",
    "\n",
    "                for x in range(M):\n",
    "                    for y in range(N):\n",
    "\n",
    "                        idx = ((u*x / M) + (v*y / N)) * 2 * np.pi\n",
    "                        newImgR[v, u] += img[y, x] * np.cos(-idx)\n",
    "                        newImgI[v, u] += img[y, x] * np.sin(-idx)\n",
    "\n",
    "        # newImg = newImgR + (0 + newImgI*1j)\n",
    "        return newImgR/(M*N), newImgI/(M*N)\n",
    "    else:\n",
    "        raise Exception('A imagem deve ser um array numpy de duas dimensões (MxN) em grayscale.')\n",
    "\n",
    "def fourier_inv(imgR, imgI):\n",
    "    if(len(np.shape(img)) == 2):\n",
    "        N, M = np.shape(img)\n",
    "        newImg = np.zeros((N, M))\n",
    "\n",
    "        for u in range(M):\n",
    "            for v in range(N):\n",
    "\n",
    "                for x in range(M):\n",
    "                    for y in range(N):\n",
    "\n",
    "                        idx = ((u*x / M) + (v*y / N)) * 2 * np.pi\n",
    "                        newImg[v, u] += imgR[y, x] * np.cos(idx)\n",
    "                        newImg[v, u] -= imgI[y, x] * np.sin(idx)\n",
    "\n",
    "        return newImg / (M*N)\n",
    "    else:\n",
    "        raise Exception('A imagem deve ser um array numpy de duas dimensões (MxN) em grayscale.')\n",
    "\n",
    "def CreateImage(height, width):\n",
    "    image = np.zeros((height, width))\n",
    "    for y in range (height):\n",
    "        for x in range(width):\n",
    "            if((x%2) == 0 and (y%2) == 0):\n",
    "                image[y,x] = 255\n",
    "            elif((x%2) == 1 and (y%2) == 1):\n",
    "                image[y,x] = 255\n",
    "    return image\n",
    "        \n",
    "def DisplayInOutGray(inImg, outImg, inText = \"Input\", outText = \"Output\"):\n",
    "    f,a = plt.subplots(ncols = 2, figsize = (20,5))\n",
    "    a[0].imshow(inImg, cmap='gray')\n",
    "    a[0].set_title(inText)\n",
    "    a[1].imshow(outImg, cmap='gray')\n",
    "    a[1].set_title(outText)\n",
    "    plt.plot()\n",
    "\n",
    "def main(image_name, thresholdLow, thresholdHigh):\n",
    "    if(image_name == \"cross\"):\n",
    "        img = CreateImage(20,20)\n",
    "    else:\n",
    "        img = cv2.imread(image_name, 0)\n",
    "        \n",
    "    bandPassed = ff.BandPassFilter(img, thresholdLow, thresholdHigh) \n",
    "    bandRejected = ff.BandRejectFilter(img, thresholdLow, thresholdHigh)\n",
    "\n",
    "    DisplayInOutGray(img, bandPassed, \"Input\", \"Band Pass\")\n",
    "    DisplayInOutGray(img, bandRejected, \"Input\", \"Band Reject\")\n",
    "\n",
    "interact(main,\n",
    "         image_name = [(\"Cross\", 'cross'),('Lizard', 'lizard.jpg'),('Ilusion', 'ilusion.jpg'),('Lena','Lena_c.png'),('Colour Wheel',\"colour.jpg\"),('Gato', 'cat.png'), ('Rodrigo', 'Rodrigo.jpg')],\n",
    "         thresholdLow = widgets.IntSlider(description = 'Low Threshold', value = 2, min = 0, max = 15),\n",
    "         thresholdHigh = widgets.IntSlider(description = 'Low Threshold', value = 8, min = 0, max = 15))"
   ]
  },
  {
   "cell_type": "code",
   "execution_count": null,
   "metadata": {},
   "outputs": [],
   "source": []
  }
 ],
 "metadata": {
  "kernelspec": {
   "display_name": "Python 3",
   "language": "python",
   "name": "python3"
  },
  "language_info": {
   "codemirror_mode": {
    "name": "ipython",
    "version": 3
   },
   "file_extension": ".py",
   "mimetype": "text/x-python",
   "name": "python",
   "nbconvert_exporter": "python",
   "pygments_lexer": "ipython3",
   "version": "3.7.1"
  }
 },
 "nbformat": 4,
 "nbformat_minor": 2
}
