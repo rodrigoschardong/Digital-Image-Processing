{
 "cells": [
  {
   "cell_type": "code",
   "execution_count": 2,
   "metadata": {},
   "outputs": [
    {
     "name": "stdout",
     "output_type": "stream",
     "text": [
      "['./images/train\\\\subject01.glasses.gif', './images/train\\\\subject01.leftlight.gif', './images/train\\\\subject01.noglasses.gif', './images/train\\\\subject01.normal.gif', './images/train\\\\subject01.rightlight.gif', './images/train\\\\subject01.sad.gif', './images/train\\\\subject01.sleepy.gif', './images/train\\\\subject01.surprised.gif', './images/train\\\\subject01.wink.gif', './images/train\\\\subject02.glasses.gif', './images/train\\\\subject02.happy.gif', './images/train\\\\subject02.noglasses.gif', './images/train\\\\subject02.normal.gif', './images/train\\\\subject02.rightlight.gif', './images/train\\\\subject02.sad.gif', './images/train\\\\subject02.sleepy.gif', './images/train\\\\subject02.surprised.gif', './images/train\\\\subject02.wink.gif', './images/train\\\\subject03.centerlight.gif', './images/train\\\\subject03.happy.gif', './images/train\\\\subject03.noglasses.gif', './images/train\\\\subject03.normal.gif', './images/train\\\\subject03.rightlight.gif', './images/train\\\\subject03.sad.gif', './images/train\\\\subject03.sleepy.gif', './images/train\\\\subject03.surprised.gif', './images/train\\\\subject03.wink.gif', './images/train\\\\subject04.centerlight.gif', './images/train\\\\subject04.glasses.gif', './images/train\\\\subject04.happy.gif', './images/train\\\\subject04.noglasses.gif', './images/train\\\\subject04.normal.gif', './images/train\\\\subject04.rightlight.gif', './images/train\\\\subject04.sad.gif', './images/train\\\\subject04.sleepy.gif', './images/train\\\\subject04.wink.gif', './images/train\\\\subject05.centerlight.gif', './images/train\\\\subject05.glasses.gif', './images/train\\\\subject05.happy.gif', './images/train\\\\subject05.leftlight.gif', './images/train\\\\subject05.noglasses.gif', './images/train\\\\subject05.normal.gif', './images/train\\\\subject05.rightlight.gif', './images/train\\\\subject05.sad.gif', './images/train\\\\subject05.wink.gif', './images/train\\\\subject06.centerlight.gif', './images/train\\\\subject06.glasses.gif', './images/train\\\\subject06.noglasses.gif', './images/train\\\\subject06.normal.gif', './images/train\\\\subject06.rightlight.gif', './images/train\\\\subject06.sad.gif', './images/train\\\\subject06.sleepy.gif', './images/train\\\\subject06.surprised.gif', './images/train\\\\subject06.wink.gif', './images/train\\\\subject07.centerlight.gif', './images/train\\\\subject07.glasses.gif', './images/train\\\\subject07.noglasses.gif', './images/train\\\\subject07.normal.gif', './images/train\\\\subject07.rightlight.gif', './images/train\\\\subject07.sad.gif', './images/train\\\\subject07.sleepy.gif', './images/train\\\\subject07.surprised.gif', './images/train\\\\subject07.wink.gif', './images/train\\\\subject08.centerlight.gif', './images/train\\\\subject08.glasses.gif', './images/train\\\\subject08.happy.gif', './images/train\\\\subject08.leftlight.gif', './images/train\\\\subject08.noglasses.gif', './images/train\\\\subject08.sad.gif', './images/train\\\\subject08.sleepy.gif', './images/train\\\\subject08.surprised.gif', './images/train\\\\subject08.wink.gif', './images/train\\\\subject09.centerlight.gif', './images/train\\\\subject09.glasses.gif', './images/train\\\\subject09.happy.gif', './images/train\\\\subject09.leftlight.gif', './images/train\\\\subject09.noglasses.gif', './images/train\\\\subject09.normal.gif', './images/train\\\\subject09.sleepy.gif', './images/train\\\\subject09.surprised.gif', './images/train\\\\subject09.wink.gif', './images/train\\\\subject10.glasses.gif', './images/train\\\\subject10.happy.gif', './images/train\\\\subject10.leftlight.gif', './images/train\\\\subject10.noglasses.gif', './images/train\\\\subject10.normal.gif', './images/train\\\\subject10.rightlight.gif', './images/train\\\\subject10.sleepy.gif', './images/train\\\\subject10.surprised.gif', './images/train\\\\subject10.wink.gif', './images/train\\\\subject11.centerlight.gif', './images/train\\\\subject11.leftlight.gif', './images/train\\\\subject11.noglasses.gif', './images/train\\\\subject11.normal.gif', './images/train\\\\subject11.rightlight.gif', './images/train\\\\subject11.sad.gif', './images/train\\\\subject11.sleepy.gif', './images/train\\\\subject11.surprised.gif', './images/train\\\\subject11.wink.gif', './images/train\\\\subject12.centerlight.gif', './images/train\\\\subject12.glasses.gif', './images/train\\\\subject12.happy.gif', './images/train\\\\subject12.leftlight.gif', './images/train\\\\subject12.noglasses.gif', './images/train\\\\subject12.sad.gif', './images/train\\\\subject12.sleepy.gif', './images/train\\\\subject12.surprised.gif', './images/train\\\\subject12.wink.gif', './images/train\\\\subject13.centerlight.gif', './images/train\\\\subject13.glasses.gif', './images/train\\\\subject13.happy.gif', './images/train\\\\subject13.leftlight.gif', './images/train\\\\subject13.noglasses.gif', './images/train\\\\subject13.normal.gif', './images/train\\\\subject13.rightlight.gif', './images/train\\\\subject13.surprised.gif', './images/train\\\\subject13.wink.gif', './images/train\\\\subject14.centerlight.gif', './images/train\\\\subject14.glasses.gif', './images/train\\\\subject14.happy.gif', './images/train\\\\subject14.leftlight.gif', './images/train\\\\subject14.noglasses.gif', './images/train\\\\subject14.rightlight.gif', './images/train\\\\subject14.sleepy.gif', './images/train\\\\subject14.surprised.gif', './images/train\\\\subject14.wink.gif', './images/train\\\\subject15.centerlight.gif', './images/train\\\\subject15.glasses.gif', './images/train\\\\subject15.happy.gif', './images/train\\\\subject15.leftlight.gif', './images/train\\\\subject15.noglasses.gif', './images/train\\\\subject15.normal.gif', './images/train\\\\subject15.sleepy.gif', './images/train\\\\subject15.surprised.gif', './images/train\\\\subject15.wink.gif']\n"
     ]
    }
   ],
   "source": [
    "import os \n",
    "\n",
    "from face_recognizer import FaceRecognizer\n",
    "\n",
    "from ipywidgets import interact, interactive, fixed, interact_manual\n",
    "import ipywidgets as widgets\n",
    "\n",
    "trainPath = \"./images/train\"\n",
    "testPath = \"./images/test\"\n",
    "\n",
    "def get_images_paths(path):\n",
    "    paths = [os.path.join(path, f) for f in os.listdir(path)]\n",
    "    return paths\n",
    "\n",
    "print(get_images_paths(trainPath))\n"
   ]
  }
 ],
 "metadata": {
  "kernelspec": {
   "display_name": "Python 3",
   "language": "python",
   "name": "python3"
  },
  "language_info": {
   "codemirror_mode": {
    "name": "ipython",
    "version": 3
   },
   "file_extension": ".py",
   "mimetype": "text/x-python",
   "name": "python",
   "nbconvert_exporter": "python",
   "pygments_lexer": "ipython3",
   "version": "3.9.1"
  },
  "orig_nbformat": 4,
  "vscode": {
   "interpreter": {
    "hash": "33b7dacb5c30b2348eb0096517f68ee49fd28083dbdde527e850854322b94b1d"
   }
  }
 },
 "nbformat": 4,
 "nbformat_minor": 2
}
