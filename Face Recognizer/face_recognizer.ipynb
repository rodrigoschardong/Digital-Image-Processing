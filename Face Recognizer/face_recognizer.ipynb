{
 "cells": [
  {
   "cell_type": "code",
   "execution_count": 1,
   "metadata": {},
   "outputs": [
    {
     "ename": "AttributeError",
     "evalue": "conver",
     "output_type": "error",
     "traceback": [
      "\u001b[1;31m---------------------------------------------------------------------------\u001b[0m",
      "\u001b[1;31mAttributeError\u001b[0m                            Traceback (most recent call last)",
      "\u001b[1;32mc:\\Users\\rscha\\Desktop\\Codes\\Python\\Digital-Image-Processing\\Face Recognizer\\face_recognizer.ipynb Cell 1\u001b[0m in \u001b[0;36m<cell line: 23>\u001b[1;34m()\u001b[0m\n\u001b[0;32m     <a href='vscode-notebook-cell:/c%3A/Users/rscha/Desktop/Codes/Python/Digital-Image-Processing/Face%20Recognizer/face_recognizer.ipynb#W0sZmlsZQ%3D%3D?line=20'>21</a>\u001b[0m \u001b[39m#print(get_images_paths(trainPath))\u001b[39;00m\n\u001b[0;32m     <a href='vscode-notebook-cell:/c%3A/Users/rscha/Desktop/Codes/Python/Digital-Image-Processing/Face%20Recognizer/face_recognizer.ipynb#W0sZmlsZQ%3D%3D?line=21'>22</a>\u001b[0m faceRec \u001b[39m=\u001b[39m FaceRecognizer(classifierPath)\n\u001b[1;32m---> <a href='vscode-notebook-cell:/c%3A/Users/rscha/Desktop/Codes/Python/Digital-Image-Processing/Face%20Recognizer/face_recognizer.ipynb#W0sZmlsZQ%3D%3D?line=22'>23</a>\u001b[0m faceRec\u001b[39m.\u001b[39;49mTrain(get_images_paths(trainPath))\n",
      "File \u001b[1;32mc:\\Users\\rscha\\Desktop\\Codes\\Python\\Digital-Image-Processing\\Face Recognizer\\face_recognizer.py:79\u001b[0m, in \u001b[0;36mFaceRecognizer.Train\u001b[1;34m(self, trainPaths)\u001b[0m\n\u001b[0;32m     77\u001b[0m imgBank \u001b[39m=\u001b[39m ImageBank(trainPaths)\n\u001b[0;32m     78\u001b[0m ids \u001b[39m=\u001b[39m np\u001b[39m.\u001b[39marray(imgBank\u001b[39m.\u001b[39mids)\n\u001b[1;32m---> 79\u001b[0m images \u001b[39m=\u001b[39m imgBank\u001b[39m.\u001b[39;49mGetImages()\n\u001b[0;32m     80\u001b[0m lbph_classifier \u001b[39m=\u001b[39m cv2\u001b[39m.\u001b[39mface\u001b[39m.\u001b[39mLBPHFaceRecognizer_create()\n\u001b[0;32m     82\u001b[0m lbph_classifier\u001b[39m.\u001b[39mtrain(images, ids)\n",
      "File \u001b[1;32mc:\\Users\\rscha\\Desktop\\Codes\\Python\\Digital-Image-Processing\\Face Recognizer\\face_recognizer.py:60\u001b[0m, in \u001b[0;36mImageBank.GetImages\u001b[1;34m(self)\u001b[0m\n\u001b[0;32m     57\u001b[0m images \u001b[39m=\u001b[39m []\n\u001b[0;32m     58\u001b[0m \u001b[39mfor\u001b[39;00m path \u001b[39min\u001b[39;00m \u001b[39mself\u001b[39m\u001b[39m.\u001b[39mimagesPaths:\n\u001b[0;32m     59\u001b[0m     \u001b[39m#img = cv2.imread(path, 0)\u001b[39;00m\n\u001b[1;32m---> 60\u001b[0m     img \u001b[39m=\u001b[39m Image\u001b[39m.\u001b[39;49mopen(path)\u001b[39m.\u001b[39;49mconver(\u001b[39m'\u001b[39m\u001b[39mL\u001b[39m\u001b[39m'\u001b[39m), \u001b[39m'\u001b[39m\u001b[39muint8\u001b[39m\u001b[39m'\u001b[39m\n\u001b[0;32m     62\u001b[0m     images\u001b[39m.\u001b[39mappend(np\u001b[39m.\u001b[39marray(img))\n\u001b[0;32m     64\u001b[0m \u001b[39m#print(images[0])\u001b[39;00m\n\u001b[0;32m     65\u001b[0m \u001b[39m#cv2.imwrite(\"hey.png\", images[0])\u001b[39;00m\n",
      "File \u001b[1;32mc:\\Users\\rscha\\AppData\\Local\\Programs\\Python\\Python39\\lib\\site-packages\\PIL\\Image.py:548\u001b[0m, in \u001b[0;36mImage.__getattr__\u001b[1;34m(self, name)\u001b[0m\n\u001b[0;32m    541\u001b[0m     warnings\u001b[39m.\u001b[39mwarn(\n\u001b[0;32m    542\u001b[0m         \u001b[39m\"\u001b[39m\u001b[39mImage categories are deprecated and will be removed in Pillow 10 \u001b[39m\u001b[39m\"\u001b[39m\n\u001b[0;32m    543\u001b[0m         \u001b[39m\"\u001b[39m\u001b[39m(2023-07-01). Use is_animated instead.\u001b[39m\u001b[39m\"\u001b[39m,\n\u001b[0;32m    544\u001b[0m         \u001b[39mDeprecationWarning\u001b[39;00m,\n\u001b[0;32m    545\u001b[0m         stacklevel\u001b[39m=\u001b[39m\u001b[39m2\u001b[39m,\n\u001b[0;32m    546\u001b[0m     )\n\u001b[0;32m    547\u001b[0m     \u001b[39mreturn\u001b[39;00m \u001b[39mself\u001b[39m\u001b[39m.\u001b[39m_category\n\u001b[1;32m--> 548\u001b[0m \u001b[39mraise\u001b[39;00m \u001b[39mAttributeError\u001b[39;00m(name)\n",
      "\u001b[1;31mAttributeError\u001b[0m: conver"
     ]
    }
   ],
   "source": [
    "import os \n",
    "import numpy as np\n",
    "\n",
    "from face_recognizer import FaceRecognizer\n",
    "\n",
    "\n",
    "from ipywidgets import interact, interactive, fixed, interact_manual\n",
    "import ipywidgets as widgets\n",
    "\n",
    "trainPath = \"./images/train\"\n",
    "testPath = \"./images/test\"\n",
    "classifierPath = \"./classifiers\"\n",
    "\n",
    "def get_images_paths(path):\n",
    "    paths = []\n",
    "    for f in os.listdir(path):\n",
    "        paths.append(path + \"/\" + f)\n",
    "    return paths\n",
    "\n",
    "\n",
    "#print(get_images_paths(trainPath))\n",
    "faceRec = FaceRecognizer(classifierPath)\n",
    "faceRec.Train(get_images_paths(trainPath))\n"
   ]
  }
 ],
 "metadata": {
  "kernelspec": {
   "display_name": "Python 3",
   "language": "python",
   "name": "python3"
  },
  "language_info": {
   "codemirror_mode": {
    "name": "ipython",
    "version": 3
   },
   "file_extension": ".py",
   "mimetype": "text/x-python",
   "name": "python",
   "nbconvert_exporter": "python",
   "pygments_lexer": "ipython3",
   "version": "3.9.1"
  },
  "orig_nbformat": 4,
  "vscode": {
   "interpreter": {
    "hash": "33b7dacb5c30b2348eb0096517f68ee49fd28083dbdde527e850854322b94b1d"
   }
  }
 },
 "nbformat": 4,
 "nbformat_minor": 2
}
