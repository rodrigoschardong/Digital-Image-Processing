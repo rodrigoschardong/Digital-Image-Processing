{
 "cells": [
  {
   "cell_type": "code",
   "execution_count": 1,
   "metadata": {},
   "outputs": [
    {
     "data": {
      "application/vnd.jupyter.widget-view+json": {
       "model_id": "b3a3ca45a4ee472aa9c72d380942977c",
       "version_major": 2,
       "version_minor": 0
      },
      "text/plain": [
       "interactive(children=(Dropdown(description='image_name', options=(('Lena', 'Lena_c.png'), ('Colour Wheel', 'co…"
      ]
     },
     "metadata": {},
     "output_type": "display_data"
    },
    {
     "data": {
      "text/plain": [
       "<function __main__.main(image_name, threshold)>"
      ]
     },
     "execution_count": 1,
     "metadata": {},
     "output_type": "execute_result"
    }
   ],
   "source": [
    "\"\"\"\n",
    "    Rodrigo Schardong\n",
    "    \n",
    "    Binarization\n",
    "\"\"\"\n",
    "\n",
    "import cv2\n",
    "\n",
    "from Floyd_Steinberg_Dithering_Class import Floyd_Steinberg_Dithering_Functions\n",
    "fsd = Floyd_Steinberg_Dithering_Functions()\n",
    "\n",
    "#Libs Just to Display\n",
    "from matplotlib import pyplot as plt\n",
    "from ipywidgets import interact, interactive, fixed, interact_manual\n",
    "import ipywidgets as widgets\n",
    "\n",
    "def DisplayInOut(inImage, outImage, inIsGray = 0, outIsGray = 0):\n",
    "    \n",
    "    if(inIsGray == 1):\n",
    "        inImage = cv2.merge((inImage,inImage,inImage))\n",
    "    else:\n",
    "        inImage = cv2.cvtColor(inImage, cv2.COLOR_BGR2RGB)\n",
    "    \n",
    "    if(outIsGray == 1):\n",
    "        outImage = cv2.merge((outImage,outImage,outImage))\n",
    "    else:\n",
    "        outImage = cv2.cvtColor(outImage, cv2.COLOR_BGR2RGB)\n",
    "    f,a = plt.subplots(ncols = 2, figsize = (20,5))\n",
    "    a[0].imshow(inImage.astype(int))\n",
    "    a[0].set_title(\"Imagem de entrada\")\n",
    "    a[1].imshow(outImage.astype(int))\n",
    "    a[1].set_title(\"Imagem de Saida\")\n",
    "    plt.plot()\n",
    "\n",
    "def main(image_name, threshold):\n",
    "    image = cv2.imread(image_name, 0)\n",
    "    binImage = fsd.binarization(image, threshold)\n",
    "    DisplayInOut(image, binImage, 1, 1)\n",
    "    \n",
    "interact(main,\n",
    "         image_name = [('Lena','Lena_c.png'),('Colour Wheel',\"colour.jpg\"),('Gato', 'cat.png'), ('Rodrigo', 'Rodrigo.jpg')],\n",
    "         threshold = widgets.IntSlider(value = -1, min = -1, max = 255, step = 1))"
   ]
  },
  {
   "cell_type": "code",
   "execution_count": 1,
   "metadata": {},
   "outputs": [
    {
     "data": {
      "application/vnd.jupyter.widget-view+json": {
       "model_id": "e8c50b7122884d32affea727acba726b",
       "version_major": 2,
       "version_minor": 0
      },
      "text/plain": [
       "interactive(children=(Dropdown(description='image_name', options=(('Lena', 'Lenna.png'), ('Colour Wheel', 'col…"
      ]
     },
     "metadata": {},
     "output_type": "display_data"
    },
    {
     "data": {
      "text/plain": [
       "<function __main__.main(image_name, threshold, equalized)>"
      ]
     },
     "execution_count": 1,
     "metadata": {},
     "output_type": "execute_result"
    }
   ],
   "source": [
    "\"\"\"\n",
    "    Rodrigo Schardong\n",
    "    \n",
    "    Floyd Steinberg Dithering\n",
    "\"\"\"\n",
    "\n",
    "import cv2\n",
    "\n",
    "from Floyd_Steinberg_Dithering_Class import Floyd_Steinberg_Dithering_Functions\n",
    "fsd = Floyd_Steinberg_Dithering_Functions()\n",
    "\n",
    "from Histogram_Class import Histogram_Functions\n",
    "hist = Histogram_Functions()\n",
    "\n",
    "#Libs Just to Display\n",
    "from matplotlib import pyplot as plt\n",
    "from ipywidgets import interact, interactive, fixed, interact_manual\n",
    "import ipywidgets as widgets\n",
    "\n",
    "\n",
    "def DisplayInOut(inImage, outImage, inIsGray = 0, outIsGray = 0):\n",
    "    \n",
    "    if(inIsGray == 1):\n",
    "        inImage = cv2.merge((inImage,inImage,inImage))\n",
    "    else:\n",
    "        inImage = cv2.cvtColor(inImage, cv2.COLOR_BGR2RGB)\n",
    "    \n",
    "    if(outIsGray == 1):\n",
    "        outImage = cv2.merge((outImage,outImage,outImage))\n",
    "    else:\n",
    "        outImage = cv2.cvtColor(outImage, cv2.COLOR_BGR2RGB)\n",
    "    f,a = plt.subplots(ncols = 2, figsize = (20,5))\n",
    "    a[0].imshow(inImage.astype(int))\n",
    "    a[0].set_title(\"Imagem de entrada\")\n",
    "    a[1].imshow(outImage.astype(int))\n",
    "    a[1].set_title(\"Imagem de Saida\")\n",
    "    plt.plot()\n",
    "\n",
    "\n",
    "    \n",
    "def main(image_name, threshold, equalized):\n",
    "    image = cv2.imread(image_name, 0)\n",
    "    \n",
    "    if(equalized == False):\n",
    "        binImage = fsd.binarization(image, threshold)\n",
    "        fsdImage = fsd.Floyd_Steinberg(image, threshold)\n",
    "        DisplayInOut(image, fsdImage.astype(int), 1, 1)\n",
    "        DisplayInOut(binImage, fsdImage.astype(int), 1, 1)\n",
    "        \n",
    "        fsdMImage = fsd.funcaoC(image)\n",
    "        DisplayInOut(image, fsdMImage.astype(int), 1, 1)\n",
    "    else:\n",
    "        eqImage = hist.Histogram_Equalization(image, \"Gray\")\n",
    "        binImage = fsd.binarization(eqImage, threshold)\n",
    "        fsdImage = fsd.Floyd_Steinberg(image, threshold)\n",
    "        DisplayInOut(eqImage, fsdImage.astype(int), 1, 1)\n",
    "        DisplayInOut(binImage, fsdImage.astype(int), 1, 1)\n",
    "    \n",
    "interact(main,\n",
    "         image_name = [('Lena','Lenna.png'),('Colour Wheel',\"colour.jpg\"),('Gato', 'cat.png'), ('Rodrigo', 'Rodrigo.jpg')],\n",
    "         threshold = widgets.IntSlider(value = 127, min = 0, max = 255, step = 1),\n",
    "         equalized = widgets.Checkbox(value = False, description = \"Histogram Equalized\", disabled = False, indent = False))"
   ]
  },
  {
   "cell_type": "code",
   "execution_count": null,
   "metadata": {},
   "outputs": [],
   "source": []
  }
 ],
 "metadata": {
  "kernelspec": {
   "display_name": "Python 3",
   "language": "python",
   "name": "python3"
  },
  "language_info": {
   "codemirror_mode": {
    "name": "ipython",
    "version": 3
   },
   "file_extension": ".py",
   "mimetype": "text/x-python",
   "name": "python",
   "nbconvert_exporter": "python",
   "pygments_lexer": "ipython3",
   "version": "3.7.1"
  }
 },
 "nbformat": 4,
 "nbformat_minor": 2
}
